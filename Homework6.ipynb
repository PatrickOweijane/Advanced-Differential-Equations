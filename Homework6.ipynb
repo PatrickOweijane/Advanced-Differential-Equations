{
 "cells": [
  {
   "cell_type": "code",
   "execution_count": 1,
   "id": "e679de85",
   "metadata": {},
   "outputs": [],
   "source": [
    "from sympy.solvers import solve\n",
    "from sympy import Symbol, cos, sin, Matrix, simplify, sqrt, Eq, Rational\n",
    "from sympy.functions import arg"
   ]
  },
  {
   "cell_type": "markdown",
   "id": "daf72106",
   "metadata": {},
   "source": [
    "# Problem 1\n",
    "\n",
    "## Part (a)\n",
    "\n",
    "To find the general solution, we first need to solve the characteristic equation below:"
   ]
  },
  {
   "cell_type": "code",
   "execution_count": 2,
   "id": "2ec06285",
   "metadata": {},
   "outputs": [
    {
     "data": {
      "text/latex": [
       "$\\displaystyle r^{4} + r^{3} \\left(2 - 2 \\sqrt{3}\\right) + r^{2} \\left(6 - 4 \\sqrt{3}\\right) + r \\left(8 - 4 \\sqrt{3}\\right) + 8 = 0$"
      ],
      "text/plain": [
       "Eq(r**4 + r**3*(2 - 2*sqrt(3)) + r**2*(6 - 4*sqrt(3)) + r*(8 - 4*sqrt(3)) + 8, 0)"
      ]
     },
     "execution_count": 2,
     "metadata": {},
     "output_type": "execute_result"
    }
   ],
   "source": [
    "r = Symbol('r')\n",
    "equation = Eq(r**4 + (2 - 2*sqrt(3))*r**3 + (6 - 4*sqrt(3))*r**2 + (8 - 4*sqrt(3))*r + 8, 0)\n",
    "equation"
   ]
  },
  {
   "cell_type": "markdown",
   "id": "6076cdeb",
   "metadata": {},
   "source": [
    "Solving the equation yields:"
   ]
  },
  {
   "cell_type": "code",
   "execution_count": 3,
   "id": "a670f412",
   "metadata": {},
   "outputs": [
    {
     "data": {
      "text/latex": [
       "$\\displaystyle \\left[\\begin{matrix}r_{1}\\\\r_{2}\\\\r_{3}\\\\r_{4}\\end{matrix}\\right] = \\left[\\begin{matrix}-1 - i\\\\-1 + i\\\\\\sqrt{3} - i\\\\\\sqrt{3} + i\\end{matrix}\\right]$"
      ],
      "text/plain": [
       "Eq(Matrix([\n",
       "[r_1],\n",
       "[r_2],\n",
       "[r_3],\n",
       "[r_4]]), Matrix([\n",
       "[     -1 - I],\n",
       "[     -1 + I],\n",
       "[sqrt(3) - I],\n",
       "[sqrt(3) + I]]))"
      ]
     },
     "execution_count": 3,
     "metadata": {},
     "output_type": "execute_result"
    }
   ],
   "source": [
    "roots = solve(equation, r)\n",
    "Eq(Matrix([Symbol(f'r_{i}') for i in range(1, 5)]), Matrix(roots))"
   ]
  },
  {
   "cell_type": "code",
   "execution_count": 4,
   "id": "05a12c79",
   "metadata": {},
   "outputs": [],
   "source": [
    "theta1 = arg(roots[0])\n",
    "abs1 = abs(roots[0])\n",
    "theta2 = arg(roots[2])\n",
    "abs2 = abs(roots[2])\n",
    "\n",
    "n = Symbol('n')\n",
    "solutions = [\n",
    "    abs1**n*cos(n*theta1),\n",
    "    abs1**n*sin(n*theta1),\n",
    "    abs2**n*cos(n*theta2),\n",
    "    abs2**n*sin(n*theta2),\n",
    "]\n",
    "constants = [Symbol(f'c_{i}') for i in range(1, 5)]\n",
    "general_solution = sum(c*sol for c, sol in zip(constants, solutions))"
   ]
  },
  {
   "cell_type": "markdown",
   "id": "1b61d7f5",
   "metadata": {},
   "source": [
    "So the general equation is:"
   ]
  },
  {
   "cell_type": "code",
   "execution_count": 5,
   "id": "b2326bca",
   "metadata": {},
   "outputs": [
    {
     "data": {
      "text/latex": [
       "$\\displaystyle x_{n} = 2^{\\frac{n}{2}} c_{1} \\cos{\\left(\\frac{3 \\pi n}{4} \\right)} - 2^{\\frac{n}{2}} c_{2} \\sin{\\left(\\frac{3 \\pi n}{4} \\right)} + 2^{n} c_{3} \\cos{\\left(\\frac{\\pi n}{6} \\right)} - 2^{n} c_{4} \\sin{\\left(\\frac{\\pi n}{6} \\right)}$"
      ],
      "text/plain": [
       "Eq(x_n, 2**(n/2)*c_1*cos(3*pi*n/4) - 2**(n/2)*c_2*sin(3*pi*n/4) + 2**n*c_3*cos(pi*n/6) - 2**n*c_4*sin(pi*n/6))"
      ]
     },
     "execution_count": 5,
     "metadata": {},
     "output_type": "execute_result"
    }
   ],
   "source": [
    "Eq(Symbol('x_n'), general_solution)"
   ]
  },
  {
   "cell_type": "markdown",
   "id": "729a8f18",
   "metadata": {},
   "source": [
    "## Part (b)"
   ]
  },
  {
   "cell_type": "code",
   "execution_count": 6,
   "id": "c6679f6e",
   "metadata": {},
   "outputs": [
    {
     "data": {
      "text/latex": [
       "$\\displaystyle \\left[\\begin{matrix}2^{\\frac{n}{2}} \\cos{\\left(\\frac{3 \\pi n}{4} \\right)} & - 2^{\\frac{n}{2}} \\sin{\\left(\\frac{3 \\pi n}{4} \\right)} & 2^{n} \\cos{\\left(\\frac{\\pi n}{6} \\right)} & - 2^{n} \\sin{\\left(\\frac{\\pi n}{6} \\right)}\\\\2^{\\frac{n}{2} + \\frac{1}{2}} \\cos{\\left(\\pi \\left(\\frac{3 n}{4} + \\frac{3}{4}\\right) \\right)} & - 2^{\\frac{n}{2} + \\frac{1}{2}} \\sin{\\left(\\pi \\left(\\frac{3 n}{4} + \\frac{3}{4}\\right) \\right)} & 2^{n + 1} \\cos{\\left(\\pi \\left(\\frac{n}{6} + \\frac{1}{6}\\right) \\right)} & - 2^{n + 1} \\sin{\\left(\\pi \\left(\\frac{n}{6} + \\frac{1}{6}\\right) \\right)}\\\\2^{\\frac{n}{2} + 1} \\cos{\\left(\\pi \\left(\\frac{3 n}{4} + \\frac{3}{2}\\right) \\right)} & - 2^{\\frac{n}{2} + 1} \\sin{\\left(\\pi \\left(\\frac{3 n}{4} + \\frac{3}{2}\\right) \\right)} & 2^{n + 2} \\cos{\\left(\\pi \\left(\\frac{n}{6} + \\frac{1}{3}\\right) \\right)} & - 2^{n + 2} \\sin{\\left(\\pi \\left(\\frac{n}{6} + \\frac{1}{3}\\right) \\right)}\\\\2^{\\frac{n}{2} + \\frac{3}{2}} \\cos{\\left(\\pi \\left(\\frac{3 n}{4} + \\frac{9}{4}\\right) \\right)} & - 2^{\\frac{n}{2} + \\frac{3}{2}} \\sin{\\left(\\pi \\left(\\frac{3 n}{4} + \\frac{9}{4}\\right) \\right)} & 2^{n + 3} \\cos{\\left(\\pi \\left(\\frac{n}{6} + \\frac{1}{2}\\right) \\right)} & - 2^{n + 3} \\sin{\\left(\\pi \\left(\\frac{n}{6} + \\frac{1}{2}\\right) \\right)}\\end{matrix}\\right]$"
      ],
      "text/plain": [
       "Matrix([\n",
       "[              2**(n/2)*cos(3*pi*n/4),               -2**(n/2)*sin(3*pi*n/4),               2**n*cos(pi*n/6),               -2**n*sin(pi*n/6)],\n",
       "[2**(n/2 + 1/2)*cos(pi*(3*n/4 + 3/4)), -2**(n/2 + 1/2)*sin(pi*(3*n/4 + 3/4)), 2**(n + 1)*cos(pi*(n/6 + 1/6)), -2**(n + 1)*sin(pi*(n/6 + 1/6))],\n",
       "[  2**(n/2 + 1)*cos(pi*(3*n/4 + 3/2)),   -2**(n/2 + 1)*sin(pi*(3*n/4 + 3/2)), 2**(n + 2)*cos(pi*(n/6 + 1/3)), -2**(n + 2)*sin(pi*(n/6 + 1/3))],\n",
       "[2**(n/2 + 3/2)*cos(pi*(3*n/4 + 9/4)), -2**(n/2 + 3/2)*sin(pi*(3*n/4 + 9/4)), 2**(n + 3)*cos(pi*(n/6 + 1/2)), -2**(n + 3)*sin(pi*(n/6 + 1/2))]])"
      ]
     },
     "execution_count": 6,
     "metadata": {},
     "output_type": "execute_result"
    }
   ],
   "source": [
    "w = Matrix([\n",
    "    solutions,\n",
    "    [exp.subs(n, n + 1) for exp in solutions],\n",
    "    [exp.subs(n, n + 2) for exp in solutions],\n",
    "    [exp.subs(n, n + 3) for exp in solutions],\n",
    "])\n",
    "w"
   ]
  },
  {
   "cell_type": "code",
   "execution_count": 7,
   "id": "a04a764b",
   "metadata": {},
   "outputs": [
    {
     "data": {
      "text/latex": [
       "$\\displaystyle 2^{3 n + 3} \\left(3 \\sqrt{3} + \\frac{11}{2}\\right)$"
      ],
      "text/plain": [
       "2**(3*n + 3)*(3*sqrt(3) + 11/2)"
      ]
     },
     "execution_count": 7,
     "metadata": {},
     "output_type": "execute_result"
    }
   ],
   "source": [
    "simplify(w.det())"
   ]
  },
  {
   "cell_type": "markdown",
   "id": "d24b1af8",
   "metadata": {},
   "source": [
    "$$\n",
    "2^{3n + 3}(3\\sqrt{3} + \\frac{11}{2}) \\neq 0\n",
    "$$\n",
    "So, the four fundamental solutions of (1) are linearly independent"
   ]
  },
  {
   "cell_type": "markdown",
   "id": "30b293a3",
   "metadata": {},
   "source": [
    "## Part (c)"
   ]
  },
  {
   "cell_type": "code",
   "execution_count": 8,
   "id": "3ae3a3a9",
   "metadata": {},
   "outputs": [],
   "source": [
    "equations = [Eq(general_solution.subs(n, i), Rational(1, 4))\n",
    "             for i in range(0, -4, -1)]"
   ]
  },
  {
   "cell_type": "markdown",
   "id": "98464cf3",
   "metadata": {},
   "source": [
    "By solving the 4 equations below:"
   ]
  },
  {
   "cell_type": "code",
   "execution_count": 9,
   "id": "4b3ecb8a",
   "metadata": {},
   "outputs": [
    {
     "data": {
      "text/latex": [
       "$\\displaystyle c_{1} + c_{3} = \\frac{1}{4}$"
      ],
      "text/plain": [
       "Eq(c_1 + c_3, 1/4)"
      ]
     },
     "execution_count": 9,
     "metadata": {},
     "output_type": "execute_result"
    }
   ],
   "source": [
    "equations[0]"
   ]
  },
  {
   "cell_type": "code",
   "execution_count": 10,
   "id": "c397dbf6",
   "metadata": {},
   "outputs": [
    {
     "data": {
      "text/latex": [
       "$\\displaystyle - \\frac{c_{1}}{2} + \\frac{c_{2}}{2} + \\frac{\\sqrt{3} c_{3}}{4} + \\frac{c_{4}}{4} = \\frac{1}{4}$"
      ],
      "text/plain": [
       "Eq(-c_1/2 + c_2/2 + sqrt(3)*c_3/4 + c_4/4, 1/4)"
      ]
     },
     "execution_count": 10,
     "metadata": {},
     "output_type": "execute_result"
    }
   ],
   "source": [
    "equations[1]"
   ]
  },
  {
   "cell_type": "code",
   "execution_count": 11,
   "id": "421582ef",
   "metadata": {},
   "outputs": [
    {
     "data": {
      "text/latex": [
       "$\\displaystyle - \\frac{c_{2}}{2} + \\frac{c_{3}}{8} + \\frac{\\sqrt{3} c_{4}}{8} = \\frac{1}{4}$"
      ],
      "text/plain": [
       "Eq(-c_2/2 + c_3/8 + sqrt(3)*c_4/8, 1/4)"
      ]
     },
     "execution_count": 11,
     "metadata": {},
     "output_type": "execute_result"
    }
   ],
   "source": [
    "equations[2]"
   ]
  },
  {
   "cell_type": "code",
   "execution_count": 12,
   "id": "2b9d531c",
   "metadata": {},
   "outputs": [
    {
     "data": {
      "text/latex": [
       "$\\displaystyle \\frac{c_{1}}{4} + \\frac{c_{2}}{4} + \\frac{c_{4}}{8} = \\frac{1}{4}$"
      ],
      "text/plain": [
       "Eq(c_1/4 + c_2/4 + c_4/8, 1/4)"
      ]
     },
     "execution_count": 12,
     "metadata": {},
     "output_type": "execute_result"
    }
   ],
   "source": [
    "equations[3]"
   ]
  },
  {
   "cell_type": "markdown",
   "id": "5247edea",
   "metadata": {},
   "source": [
    "We get:"
   ]
  },
  {
   "cell_type": "code",
   "execution_count": 13,
   "id": "831a61a2",
   "metadata": {},
   "outputs": [
    {
     "data": {
      "text/latex": [
       "$\\displaystyle \\left[\\begin{matrix}c_{1}\\\\c_{2}\\\\c_{3}\\\\c_{4}\\end{matrix}\\right] = \\left[\\begin{matrix}\\frac{1}{4}\\\\- \\frac{17}{4} + \\frac{5 \\sqrt{3}}{2}\\\\0\\\\10 - 5 \\sqrt{3}\\end{matrix}\\right]$"
      ],
      "text/plain": [
       "Eq(Matrix([\n",
       "[c_1],\n",
       "[c_2],\n",
       "[c_3],\n",
       "[c_4]]), Matrix([\n",
       "[                1/4],\n",
       "[-17/4 + 5*sqrt(3)/2],\n",
       "[                  0],\n",
       "[     10 - 5*sqrt(3)]]))"
      ]
     },
     "execution_count": 13,
     "metadata": {},
     "output_type": "execute_result"
    }
   ],
   "source": [
    "solved_constants = solve(equations, constants)\n",
    "Eq(Matrix(constants), Matrix(list(solved_constants.values())))"
   ]
  },
  {
   "cell_type": "markdown",
   "id": "788c5ae7",
   "metadata": {},
   "source": [
    "So, the unique solution is:"
   ]
  },
  {
   "cell_type": "code",
   "execution_count": 15,
   "id": "4b67433d",
   "metadata": {},
   "outputs": [
    {
     "data": {
      "text/latex": [
       "$\\displaystyle x_{n} = - 5 \\cdot 2^{n} \\left(2 - \\sqrt{3}\\right) \\sin{\\left(\\frac{\\pi n}{6} \\right)} + 2^{\\frac{n}{2} - 2} \\left(17 - 10 \\sqrt{3}\\right) \\sin{\\left(\\frac{3 \\pi n}{4} \\right)} + 2^{\\frac{n}{2} - 2} \\cos{\\left(\\frac{3 \\pi n}{4} \\right)}$"
      ],
      "text/plain": [
       "Eq(x_n, -5*2**n*(2 - sqrt(3))*sin(pi*n/6) + 2**(n/2 - 2)*(17 - 10*sqrt(3))*sin(3*pi*n/4) + 2**(n/2 - 2)*cos(3*pi*n/4))"
      ]
     },
     "execution_count": 15,
     "metadata": {},
     "output_type": "execute_result"
    }
   ],
   "source": [
    "for c, sol in solved_constants.items():\n",
    "    general_solution = general_solution.subs(c, sol)\n",
    "general_solution = simplify(general_solution)\n",
    "Eq(Symbol('x_n'), general_solution)"
   ]
  },
  {
   "cell_type": "code",
   "execution_count": null,
   "id": "9b8a6680",
   "metadata": {},
   "outputs": [],
   "source": []
  }
 ],
 "metadata": {
  "kernelspec": {
   "display_name": "Python 3",
   "language": "python",
   "name": "python3"
  },
  "language_info": {
   "codemirror_mode": {
    "name": "ipython",
    "version": 3
   },
   "file_extension": ".py",
   "mimetype": "text/x-python",
   "name": "python",
   "nbconvert_exporter": "python",
   "pygments_lexer": "ipython3",
   "version": "3.9.1"
  }
 },
 "nbformat": 4,
 "nbformat_minor": 5
}
