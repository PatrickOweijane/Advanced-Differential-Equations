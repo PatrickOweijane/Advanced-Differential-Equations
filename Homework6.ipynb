{
 "cells": [
  {
   "cell_type": "code",
   "execution_count": 38,
   "id": "c1cb38a6",
   "metadata": {},
   "outputs": [],
   "source": [
    "from sympy.solvers import solve\n",
    "from sympy import Symbol, cos, sin, Matrix, simplify\n",
    "from sympy.functions import arg\n",
    "from sympy import I, sqrt"
   ]
  },
  {
   "cell_type": "markdown",
   "id": "84edba0d",
   "metadata": {},
   "source": [
    "# Problem 1\n",
    "\n",
    "## Part (a)\n",
    "\n",
    "The characteristic equation is\n",
    "\n",
    "$$\n",
    "r^4 + (2 - 2\\sqrt{3}) r^3 + (6 - 4\\sqrt{3}) r^2 + (8 - 4\\sqrt{3})r + 8 = 0\n",
    "$$\n",
    "and we need to solve it to get solutions of the difference equation"
   ]
  },
  {
   "cell_type": "code",
   "execution_count": 46,
   "id": "cdc09d65",
   "metadata": {},
   "outputs": [
    {
     "data": {
      "text/latex": [
       "$\\displaystyle \\left[\\begin{matrix}-1 - i\\\\-1 + i\\\\\\sqrt{3} - i\\\\\\sqrt{3} + i\\end{matrix}\\right]$"
      ],
      "text/plain": [
       "Matrix([\n",
       "[     -1 - I],\n",
       "[     -1 + I],\n",
       "[sqrt(3) - I],\n",
       "[sqrt(3) + I]])"
      ]
     },
     "execution_count": 46,
     "metadata": {},
     "output_type": "execute_result"
    }
   ],
   "source": [
    "r = Symbol('r')\n",
    "equation = r**4 + (2 - 2*sqrt(3))*r**3 + (6 - 4*sqrt(3))*r**2 + (8 - 4*sqrt(3))*r + 8\n",
    "roots = solve(equation, r)\n",
    "Matrix(roots)"
   ]
  },
  {
   "cell_type": "code",
   "execution_count": 45,
   "id": "1b12b281",
   "metadata": {},
   "outputs": [
    {
     "data": {
      "text/latex": [
       "$\\displaystyle \\left[\\begin{matrix}2^{\\frac{n}{2}} \\cos{\\left(\\frac{3 \\pi n}{4} \\right)}\\\\- 2^{\\frac{n}{2}} \\sin{\\left(\\frac{3 \\pi n}{4} \\right)}\\\\2^{n} \\cos{\\left(\\frac{\\pi n}{6} \\right)}\\\\- 2^{n} \\sin{\\left(\\frac{\\pi n}{6} \\right)}\\end{matrix}\\right]$"
      ],
      "text/plain": [
       "Matrix([\n",
       "[ 2**(n/2)*cos(3*pi*n/4)],\n",
       "[-2**(n/2)*sin(3*pi*n/4)],\n",
       "[       2**n*cos(pi*n/6)],\n",
       "[      -2**n*sin(pi*n/6)]])"
      ]
     },
     "execution_count": 45,
     "metadata": {},
     "output_type": "execute_result"
    }
   ],
   "source": [
    "theta1 = arg(roots[0])\n",
    "r1 = abs(roots[0])\n",
    "theta2 = arg(roots[2])\n",
    "r2 = abs(roots[2])\n",
    "\n",
    "n = Symbol('n')\n",
    "solutions = Matrix([\n",
    "    r1**n*cos(n*theta1),\n",
    "    r1**n*sin(n*theta1),\n",
    "    r2**n*cos(n*theta2),\n",
    "    r2**n*sin(n*theta2),\n",
    "])\n",
    "solutions"
   ]
  },
  {
   "cell_type": "markdown",
   "id": "851e28b4",
   "metadata": {},
   "source": [
    "So the general equation is:\n",
    "$$\n",
    "x_{n} = c_{1}2^{\\frac{n}{2}}\\cos(\\frac{3 \\pi n}{4}) + c_{2}2^{\\frac{n}{2}}\\sin(\\frac{3 \\pi n}{4}) + c_{3}2^{n}\\cos(\\frac{\\pi n}{6}) + c_{4}2^{n}\\sin(\\frac{\\pi n}{6})\n",
    "$$\n",
    "\n",
    "## Part (b)"
   ]
  },
  {
   "cell_type": "code",
   "execution_count": 47,
   "id": "4fda7fa4",
   "metadata": {},
   "outputs": [
    {
     "data": {
      "text/latex": [
       "$\\displaystyle \\left[\\begin{matrix}2^{\\frac{n}{2}} \\cos{\\left(\\frac{3 \\pi n}{4} \\right)} & - 2^{\\frac{n}{2}} \\sin{\\left(\\frac{3 \\pi n}{4} \\right)} & 2^{n} \\cos{\\left(\\frac{\\pi n}{6} \\right)} & - 2^{n} \\sin{\\left(\\frac{\\pi n}{6} \\right)}\\\\2^{\\frac{n}{2} + \\frac{1}{2}} \\cos{\\left(\\pi \\left(\\frac{3 n}{4} + \\frac{3}{4}\\right) \\right)} & - 2^{\\frac{n}{2} + \\frac{1}{2}} \\sin{\\left(\\pi \\left(\\frac{3 n}{4} + \\frac{3}{4}\\right) \\right)} & 2^{n + 1} \\cos{\\left(\\pi \\left(\\frac{n}{6} + \\frac{1}{6}\\right) \\right)} & - 2^{n + 1} \\sin{\\left(\\pi \\left(\\frac{n}{6} + \\frac{1}{6}\\right) \\right)}\\\\2^{\\frac{n}{2} + 1} \\cos{\\left(\\pi \\left(\\frac{3 n}{4} + \\frac{3}{2}\\right) \\right)} & - 2^{\\frac{n}{2} + 1} \\sin{\\left(\\pi \\left(\\frac{3 n}{4} + \\frac{3}{2}\\right) \\right)} & 2^{n + 2} \\cos{\\left(\\pi \\left(\\frac{n}{6} + \\frac{1}{3}\\right) \\right)} & - 2^{n + 2} \\sin{\\left(\\pi \\left(\\frac{n}{6} + \\frac{1}{3}\\right) \\right)}\\\\2^{\\frac{n}{2} + \\frac{3}{2}} \\cos{\\left(\\pi \\left(\\frac{3 n}{4} + \\frac{9}{4}\\right) \\right)} & - 2^{\\frac{n}{2} + \\frac{3}{2}} \\sin{\\left(\\pi \\left(\\frac{3 n}{4} + \\frac{9}{4}\\right) \\right)} & 2^{n + 3} \\cos{\\left(\\pi \\left(\\frac{n}{6} + \\frac{1}{2}\\right) \\right)} & - 2^{n + 3} \\sin{\\left(\\pi \\left(\\frac{n}{6} + \\frac{1}{2}\\right) \\right)}\\end{matrix}\\right]$"
      ],
      "text/plain": [
       "Matrix([\n",
       "[              2**(n/2)*cos(3*pi*n/4),               -2**(n/2)*sin(3*pi*n/4),               2**n*cos(pi*n/6),               -2**n*sin(pi*n/6)],\n",
       "[2**(n/2 + 1/2)*cos(pi*(3*n/4 + 3/4)), -2**(n/2 + 1/2)*sin(pi*(3*n/4 + 3/4)), 2**(n + 1)*cos(pi*(n/6 + 1/6)), -2**(n + 1)*sin(pi*(n/6 + 1/6))],\n",
       "[  2**(n/2 + 1)*cos(pi*(3*n/4 + 3/2)),   -2**(n/2 + 1)*sin(pi*(3*n/4 + 3/2)), 2**(n + 2)*cos(pi*(n/6 + 1/3)), -2**(n + 2)*sin(pi*(n/6 + 1/3))],\n",
       "[2**(n/2 + 3/2)*cos(pi*(3*n/4 + 9/4)), -2**(n/2 + 3/2)*sin(pi*(3*n/4 + 9/4)), 2**(n + 3)*cos(pi*(n/6 + 1/2)), -2**(n + 3)*sin(pi*(n/6 + 1/2))]])"
      ]
     },
     "execution_count": 47,
     "metadata": {},
     "output_type": "execute_result"
    }
   ],
   "source": [
    "w = Matrix([\n",
    "    [r1**n*cos(n*theta1), r1**n*sin(n*theta1), r2**n*cos(n*theta2), r2**n*sin(n*theta2)],\n",
    "    [exp.subs(n, n + 1) for exp in [r1**n*cos(n*theta1), r1**n*sin(n*theta1), r2**n*cos(n*theta2), r2**n*sin(n*theta2)]],\n",
    "    [exp.subs(n, n + 2) for exp in [r1**n*cos(n*theta1), r1**n*sin(n*theta1), r2**n*cos(n*theta2), r2**n*sin(n*theta2)]],\n",
    "    [exp.subs(n, n + 3) for exp in [r1**n*cos(n*theta1), r1**n*sin(n*theta1), r2**n*cos(n*theta2), r2**n*sin(n*theta2)]],\n",
    "])\n",
    "\n",
    "w"
   ]
  },
  {
   "cell_type": "code",
   "execution_count": 50,
   "id": "6f264235",
   "metadata": {},
   "outputs": [
    {
     "data": {
      "text/latex": [
       "$\\displaystyle 2^{3 n + 3} \\left(3 \\sqrt{3} + \\frac{11}{2}\\right)$"
      ],
      "text/plain": [
       "2**(3*n + 3)*(3*sqrt(3) + 11/2)"
      ]
     },
     "execution_count": 50,
     "metadata": {},
     "output_type": "execute_result"
    }
   ],
   "source": [
    "simplify(w.det())"
   ]
  },
  {
   "cell_type": "markdown",
   "id": "b4ef5f0b",
   "metadata": {},
   "source": [
    "$$\n",
    "2^{3n + 3}(3\\sqrt{3} + \\frac{11}{2}) \\neq 0\n",
    "$$\n",
    "So, the four fundamental solutions of (1) are linearly independent"
   ]
  },
  {
   "cell_type": "code",
   "execution_count": null,
   "id": "021ecc18",
   "metadata": {},
   "outputs": [],
   "source": []
  }
 ],
 "metadata": {
  "kernelspec": {
   "display_name": "Python 3",
   "language": "python",
   "name": "python3"
  },
  "language_info": {
   "codemirror_mode": {
    "name": "ipython",
    "version": 3
   },
   "file_extension": ".py",
   "mimetype": "text/x-python",
   "name": "python",
   "nbconvert_exporter": "python",
   "pygments_lexer": "ipython3",
   "version": "3.9.1"
  }
 },
 "nbformat": 4,
 "nbformat_minor": 5
}
