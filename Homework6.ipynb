{
 "cells": [
  {
   "cell_type": "code",
   "execution_count": 1,
   "id": "e679de85",
   "metadata": {},
   "outputs": [],
   "source": [
    "import sympy as sp\n",
    "import matplotlib.pyplot as plt\n",
    "import math\n",
    "import itertools as it"
   ]
  },
  {
   "cell_type": "markdown",
   "id": "daf72106",
   "metadata": {},
   "source": [
    "# Problem 1\n",
    "\n",
    "## Part (a)\n",
    "\n",
    "To find the general solution, we first need to solve the characteristic equation below:"
   ]
  },
  {
   "cell_type": "code",
   "execution_count": 2,
   "id": "2ec06285",
   "metadata": {},
   "outputs": [
    {
     "data": {
      "text/latex": [
       "$\\displaystyle r^{4} + r^{3} \\left(2 - 2 \\sqrt{3}\\right) + r^{2} \\left(6 - 4 \\sqrt{3}\\right) + r \\left(8 - 4 \\sqrt{3}\\right) + 8 = 0$"
      ],
      "text/plain": [
       "Eq(r**4 + r**3*(2 - 2*sqrt(3)) + r**2*(6 - 4*sqrt(3)) + r*(8 - 4*sqrt(3)) + 8, 0)"
      ]
     },
     "execution_count": 2,
     "metadata": {},
     "output_type": "execute_result"
    }
   ],
   "source": [
    "r = sp.Symbol('r')\n",
    "equation = sp.Eq(r**4 + (2 - 2*sp.sqrt(3))*r**3 + (6 - 4*sp.sqrt(3))*r**2 + (8 - 4*sp.sqrt(3))*r + 8, 0)\n",
    "equation"
   ]
  },
  {
   "cell_type": "markdown",
   "id": "6076cdeb",
   "metadata": {},
   "source": [
    "Solving the equation yields:"
   ]
  },
  {
   "cell_type": "code",
   "execution_count": 3,
   "id": "a670f412",
   "metadata": {},
   "outputs": [
    {
     "data": {
      "text/latex": [
       "$\\displaystyle \\left[\\begin{matrix}r_{1}\\\\r_{2}\\\\r_{3}\\\\r_{4}\\end{matrix}\\right] = \\left[\\begin{matrix}-1 - i\\\\-1 + i\\\\\\sqrt{3} - i\\\\\\sqrt{3} + i\\end{matrix}\\right]$"
      ],
      "text/plain": [
       "Eq(Matrix([\n",
       "[r_1],\n",
       "[r_2],\n",
       "[r_3],\n",
       "[r_4]]), Matrix([\n",
       "[     -1 - I],\n",
       "[     -1 + I],\n",
       "[sqrt(3) - I],\n",
       "[sqrt(3) + I]]))"
      ]
     },
     "execution_count": 3,
     "metadata": {},
     "output_type": "execute_result"
    }
   ],
   "source": [
    "roots = sp.solve(equation, r)\n",
    "sp.Eq(sp.Matrix([sp.Symbol(f'r_{i}') for i in range(1, 5)]), sp.Matrix(roots))"
   ]
  },
  {
   "cell_type": "code",
   "execution_count": 4,
   "id": "05a12c79",
   "metadata": {},
   "outputs": [],
   "source": [
    "theta1 = sp.arg(roots[0])\n",
    "abs1 = abs(roots[0])\n",
    "theta2 = sp.arg(roots[2])\n",
    "abs2 = abs(roots[2])\n",
    "\n",
    "n = sp.Symbol('n')\n",
    "solutions = [\n",
    "    abs1**n*sp.cos(n*theta1),\n",
    "    abs1**n*sp.sin(n*theta1),\n",
    "    abs2**n*sp.cos(n*theta2),\n",
    "    abs2**n*sp.sin(n*theta2),\n",
    "]\n",
    "constants = [sp.Symbol(f'c_{i}') for i in range(1, 5)]\n",
    "general_solution = sum(c*sol for c, sol in zip(constants, solutions))"
   ]
  },
  {
   "cell_type": "markdown",
   "id": "1b61d7f5",
   "metadata": {},
   "source": [
    "So the general equation is:"
   ]
  },
  {
   "cell_type": "code",
   "execution_count": 5,
   "id": "b2326bca",
   "metadata": {},
   "outputs": [
    {
     "data": {
      "text/latex": [
       "$\\displaystyle x_{n} = 2^{\\frac{n}{2}} c_{1} \\cos{\\left(\\frac{3 \\pi n}{4} \\right)} - 2^{\\frac{n}{2}} c_{2} \\sin{\\left(\\frac{3 \\pi n}{4} \\right)} + 2^{n} c_{3} \\cos{\\left(\\frac{\\pi n}{6} \\right)} - 2^{n} c_{4} \\sin{\\left(\\frac{\\pi n}{6} \\right)}$"
      ],
      "text/plain": [
       "Eq(x_n, 2**(n/2)*c_1*cos(3*pi*n/4) - 2**(n/2)*c_2*sin(3*pi*n/4) + 2**n*c_3*cos(pi*n/6) - 2**n*c_4*sin(pi*n/6))"
      ]
     },
     "execution_count": 5,
     "metadata": {},
     "output_type": "execute_result"
    }
   ],
   "source": [
    "sp.Eq(sp.Symbol('x_n'), general_solution)"
   ]
  },
  {
   "cell_type": "markdown",
   "id": "729a8f18",
   "metadata": {},
   "source": [
    "## Part (b)"
   ]
  },
  {
   "cell_type": "code",
   "execution_count": 6,
   "id": "c6679f6e",
   "metadata": {},
   "outputs": [
    {
     "data": {
      "text/latex": [
       "$\\displaystyle \\left[\\begin{matrix}2^{\\frac{n}{2}} \\cos{\\left(\\frac{3 \\pi n}{4} \\right)} & - 2^{\\frac{n}{2}} \\sin{\\left(\\frac{3 \\pi n}{4} \\right)} & 2^{n} \\cos{\\left(\\frac{\\pi n}{6} \\right)} & - 2^{n} \\sin{\\left(\\frac{\\pi n}{6} \\right)}\\\\2^{\\frac{n}{2} + \\frac{1}{2}} \\cos{\\left(\\pi \\left(\\frac{3 n}{4} + \\frac{3}{4}\\right) \\right)} & - 2^{\\frac{n}{2} + \\frac{1}{2}} \\sin{\\left(\\pi \\left(\\frac{3 n}{4} + \\frac{3}{4}\\right) \\right)} & 2^{n + 1} \\cos{\\left(\\pi \\left(\\frac{n}{6} + \\frac{1}{6}\\right) \\right)} & - 2^{n + 1} \\sin{\\left(\\pi \\left(\\frac{n}{6} + \\frac{1}{6}\\right) \\right)}\\\\2^{\\frac{n}{2} + 1} \\cos{\\left(\\pi \\left(\\frac{3 n}{4} + \\frac{3}{2}\\right) \\right)} & - 2^{\\frac{n}{2} + 1} \\sin{\\left(\\pi \\left(\\frac{3 n}{4} + \\frac{3}{2}\\right) \\right)} & 2^{n + 2} \\cos{\\left(\\pi \\left(\\frac{n}{6} + \\frac{1}{3}\\right) \\right)} & - 2^{n + 2} \\sin{\\left(\\pi \\left(\\frac{n}{6} + \\frac{1}{3}\\right) \\right)}\\\\2^{\\frac{n}{2} + \\frac{3}{2}} \\cos{\\left(\\pi \\left(\\frac{3 n}{4} + \\frac{9}{4}\\right) \\right)} & - 2^{\\frac{n}{2} + \\frac{3}{2}} \\sin{\\left(\\pi \\left(\\frac{3 n}{4} + \\frac{9}{4}\\right) \\right)} & 2^{n + 3} \\cos{\\left(\\pi \\left(\\frac{n}{6} + \\frac{1}{2}\\right) \\right)} & - 2^{n + 3} \\sin{\\left(\\pi \\left(\\frac{n}{6} + \\frac{1}{2}\\right) \\right)}\\end{matrix}\\right]$"
      ],
      "text/plain": [
       "Matrix([\n",
       "[              2**(n/2)*cos(3*pi*n/4),               -2**(n/2)*sin(3*pi*n/4),               2**n*cos(pi*n/6),               -2**n*sin(pi*n/6)],\n",
       "[2**(n/2 + 1/2)*cos(pi*(3*n/4 + 3/4)), -2**(n/2 + 1/2)*sin(pi*(3*n/4 + 3/4)), 2**(n + 1)*cos(pi*(n/6 + 1/6)), -2**(n + 1)*sin(pi*(n/6 + 1/6))],\n",
       "[  2**(n/2 + 1)*cos(pi*(3*n/4 + 3/2)),   -2**(n/2 + 1)*sin(pi*(3*n/4 + 3/2)), 2**(n + 2)*cos(pi*(n/6 + 1/3)), -2**(n + 2)*sin(pi*(n/6 + 1/3))],\n",
       "[2**(n/2 + 3/2)*cos(pi*(3*n/4 + 9/4)), -2**(n/2 + 3/2)*sin(pi*(3*n/4 + 9/4)), 2**(n + 3)*cos(pi*(n/6 + 1/2)), -2**(n + 3)*sin(pi*(n/6 + 1/2))]])"
      ]
     },
     "execution_count": 6,
     "metadata": {},
     "output_type": "execute_result"
    }
   ],
   "source": [
    "w = sp.Matrix([\n",
    "    solutions,\n",
    "    [exp.subs(n, n + 1) for exp in solutions],\n",
    "    [exp.subs(n, n + 2) for exp in solutions],\n",
    "    [exp.subs(n, n + 3) for exp in solutions],\n",
    "])\n",
    "w"
   ]
  },
  {
   "cell_type": "code",
   "execution_count": 7,
   "id": "a04a764b",
   "metadata": {},
   "outputs": [
    {
     "data": {
      "text/latex": [
       "$\\displaystyle 2^{3 n + 3} \\left(3 \\sqrt{3} + \\frac{11}{2}\\right)$"
      ],
      "text/plain": [
       "2**(3*n + 3)*(3*sqrt(3) + 11/2)"
      ]
     },
     "execution_count": 7,
     "metadata": {},
     "output_type": "execute_result"
    }
   ],
   "source": [
    "sp.simplify(w.det())"
   ]
  },
  {
   "cell_type": "markdown",
   "id": "d24b1af8",
   "metadata": {},
   "source": [
    "$$\n",
    "2^{3n + 3}(3\\sqrt{3} + \\frac{11}{2}) \\neq 0\n",
    "$$\n",
    "So, the four fundamental solutions of (1) are linearly independent"
   ]
  },
  {
   "cell_type": "markdown",
   "id": "30b293a3",
   "metadata": {},
   "source": [
    "## Part (c)"
   ]
  },
  {
   "cell_type": "code",
   "execution_count": 8,
   "id": "3ae3a3a9",
   "metadata": {},
   "outputs": [],
   "source": [
    "equations = [sp.Eq(general_solution.subs(n, i), sp.Rational(1, 4))\n",
    "             for i in range(0, -4, -1)]"
   ]
  },
  {
   "cell_type": "markdown",
   "id": "98464cf3",
   "metadata": {},
   "source": [
    "By solving the 4 equations below:"
   ]
  },
  {
   "cell_type": "code",
   "execution_count": 9,
   "id": "4b3ecb8a",
   "metadata": {},
   "outputs": [
    {
     "data": {
      "text/latex": [
       "$\\displaystyle c_{1} + c_{3} = \\frac{1}{4}$"
      ],
      "text/plain": [
       "Eq(c_1 + c_3, 1/4)"
      ]
     },
     "execution_count": 9,
     "metadata": {},
     "output_type": "execute_result"
    }
   ],
   "source": [
    "equations[0]"
   ]
  },
  {
   "cell_type": "code",
   "execution_count": 10,
   "id": "c397dbf6",
   "metadata": {},
   "outputs": [
    {
     "data": {
      "text/latex": [
       "$\\displaystyle - \\frac{c_{1}}{2} + \\frac{c_{2}}{2} + \\frac{\\sqrt{3} c_{3}}{4} + \\frac{c_{4}}{4} = \\frac{1}{4}$"
      ],
      "text/plain": [
       "Eq(-c_1/2 + c_2/2 + sqrt(3)*c_3/4 + c_4/4, 1/4)"
      ]
     },
     "execution_count": 10,
     "metadata": {},
     "output_type": "execute_result"
    }
   ],
   "source": [
    "equations[1]"
   ]
  },
  {
   "cell_type": "code",
   "execution_count": 11,
   "id": "421582ef",
   "metadata": {},
   "outputs": [
    {
     "data": {
      "text/latex": [
       "$\\displaystyle - \\frac{c_{2}}{2} + \\frac{c_{3}}{8} + \\frac{\\sqrt{3} c_{4}}{8} = \\frac{1}{4}$"
      ],
      "text/plain": [
       "Eq(-c_2/2 + c_3/8 + sqrt(3)*c_4/8, 1/4)"
      ]
     },
     "execution_count": 11,
     "metadata": {},
     "output_type": "execute_result"
    }
   ],
   "source": [
    "equations[2]"
   ]
  },
  {
   "cell_type": "code",
   "execution_count": 12,
   "id": "2b9d531c",
   "metadata": {},
   "outputs": [
    {
     "data": {
      "text/latex": [
       "$\\displaystyle \\frac{c_{1}}{4} + \\frac{c_{2}}{4} + \\frac{c_{4}}{8} = \\frac{1}{4}$"
      ],
      "text/plain": [
       "Eq(c_1/4 + c_2/4 + c_4/8, 1/4)"
      ]
     },
     "execution_count": 12,
     "metadata": {},
     "output_type": "execute_result"
    }
   ],
   "source": [
    "equations[3]"
   ]
  },
  {
   "cell_type": "markdown",
   "id": "5247edea",
   "metadata": {},
   "source": [
    "We get:"
   ]
  },
  {
   "cell_type": "code",
   "execution_count": 13,
   "id": "831a61a2",
   "metadata": {},
   "outputs": [
    {
     "data": {
      "text/latex": [
       "$\\displaystyle \\left[\\begin{matrix}c_{1}\\\\c_{2}\\\\c_{3}\\\\c_{4}\\end{matrix}\\right] = \\left[\\begin{matrix}\\frac{1}{4}\\\\- \\frac{17}{4} + \\frac{5 \\sqrt{3}}{2}\\\\0\\\\10 - 5 \\sqrt{3}\\end{matrix}\\right]$"
      ],
      "text/plain": [
       "Eq(Matrix([\n",
       "[c_1],\n",
       "[c_2],\n",
       "[c_3],\n",
       "[c_4]]), Matrix([\n",
       "[                1/4],\n",
       "[-17/4 + 5*sqrt(3)/2],\n",
       "[                  0],\n",
       "[     10 - 5*sqrt(3)]]))"
      ]
     },
     "execution_count": 13,
     "metadata": {},
     "output_type": "execute_result"
    }
   ],
   "source": [
    "solved_constants = sp.solve(equations, constants)\n",
    "sp.Eq(sp.Matrix(constants), sp.Matrix(list(solved_constants.values())))"
   ]
  },
  {
   "cell_type": "markdown",
   "id": "788c5ae7",
   "metadata": {},
   "source": [
    "So, the unique solution is:"
   ]
  },
  {
   "cell_type": "code",
   "execution_count": 14,
   "id": "4b67433d",
   "metadata": {},
   "outputs": [
    {
     "data": {
      "text/latex": [
       "$\\displaystyle x_{n} = - 5 \\cdot 2^{n} \\left(2 - \\sqrt{3}\\right) \\sin{\\left(\\frac{\\pi n}{6} \\right)} + 2^{\\frac{n}{2} - 2} \\left(17 - 10 \\sqrt{3}\\right) \\sin{\\left(\\frac{3 \\pi n}{4} \\right)} + 2^{\\frac{n}{2} - 2} \\cos{\\left(\\frac{3 \\pi n}{4} \\right)}$"
      ],
      "text/plain": [
       "Eq(x_n, -5*2**n*(2 - sqrt(3))*sin(pi*n/6) + 2**(n/2 - 2)*(17 - 10*sqrt(3))*sin(3*pi*n/4) + 2**(n/2 - 2)*cos(3*pi*n/4))"
      ]
     },
     "execution_count": 14,
     "metadata": {},
     "output_type": "execute_result"
    }
   ],
   "source": [
    "for c, sol in solved_constants.items():\n",
    "    general_solution = general_solution.subs(c, sol)\n",
    "general_solution = sp.simplify(general_solution)\n",
    "sp.Eq(sp.Symbol('x_n'), general_solution)"
   ]
  },
  {
   "cell_type": "markdown",
   "id": "3c518f50",
   "metadata": {},
   "source": [
    "## Part (d)"
   ]
  },
  {
   "cell_type": "markdown",
   "id": "aabc4529",
   "metadata": {},
   "source": [
    "Plotting for $n = 1 \\ldots 20$ we get:"
   ]
  },
  {
   "cell_type": "code",
   "execution_count": 15,
   "id": "c4bb055a",
   "metadata": {},
   "outputs": [
    {
     "data": {
      "image/png": "[encoded data removed]",
      "text/plain": [
       "<Figure size 432x288 with 1 Axes>"
      ]
     },
     "metadata": {
      "needs_background": "light"
     },
     "output_type": "display_data"
    }
   ],
   "source": [
    "fig, ax = plt.subplots()\n",
    "_ = ax.plot([i for i in range(1, 21)], [general_solution.subs(n, i) for i in range(1, 21)])"
   ]
  },
  {
   "cell_type": "markdown",
   "id": "6a490087",
   "metadata": {},
   "source": [
    "Plotting for $n = 1 \\ldots 40$ we get:"
   ]
  },
  {
   "cell_type": "code",
   "execution_count": 16,
   "id": "b29f6651",
   "metadata": {},
   "outputs": [
    {
     "data": {
      "image/png": "[encoded data removed]",
      "text/plain": [
       "<Figure size 432x288 with 1 Axes>"
      ]
     },
     "metadata": {
      "needs_background": "light"
     },
     "output_type": "display_data"
    }
   ],
   "source": [
    "fig, ax = plt.subplots()\n",
    "_ = ax.plot([i for i in range(1, 41)], [general_solution.subs(n, i) for i in range(1, 41)])"
   ]
  },
  {
   "cell_type": "markdown",
   "id": "6b1ffe68",
   "metadata": {},
   "source": [
    "Plotting for $n = 1 \\ldots 60$ we get:"
   ]
  },
  {
   "cell_type": "code",
   "execution_count": 17,
   "id": "a947bdc8",
   "metadata": {},
   "outputs": [
    {
     "data": {
      "image/png": "[encoded data removed]",
      "text/plain": [
       "<Figure size 432x288 with 1 Axes>"
      ]
     },
     "metadata": {
      "needs_background": "light"
     },
     "output_type": "display_data"
    }
   ],
   "source": [
    "fig, ax = plt.subplots()\n",
    "_ = ax.plot([i for i in range(1, 61)], [general_solution.subs(n, i) for i in range(1, 61)])"
   ]
  },
  {
   "cell_type": "markdown",
   "id": "61ddf9a1",
   "metadata": {},
   "source": [
    "# Problem 2"
   ]
  },
  {
   "cell_type": "code",
   "execution_count": 18,
   "id": "06555403",
   "metadata": {},
   "outputs": [
    {
     "data": {
      "text/latex": [
       "$\\displaystyle C_{0}$"
      ],
      "text/plain": [
       "C0"
      ]
     },
     "execution_count": 18,
     "metadata": {},
     "output_type": "execute_result"
    }
   ],
   "source": [
    "a = sp.Function(\"a\")\n",
    "f = n*a(n+2) - (n+1)*a(n+1) + a(n)\n",
    "sp.rsolve(f, a(n))"
   ]
  },
  {
   "cell_type": "markdown",
   "id": "69769552",
   "metadata": {},
   "source": [
    "However, we know that the result above is wrong, and according to WolframAlpha, the homogenous solution is:"
   ]
  },
  {
   "cell_type": "code",
   "execution_count": 19,
   "id": "bff8f0a0",
   "metadata": {},
   "outputs": [
    {
     "data": {
      "text/latex": [
       "$\\displaystyle c_{1} + \\frac{e c_{2} \\Gamma\\left(n - 1, 1\\right)}{\\Gamma\\left(n - 1\\right)}$"
      ],
      "text/plain": [
       "c_1 + E*c_2*uppergamma(n - 1, 1)/gamma(n - 1)"
      ]
     },
     "execution_count": 19,
     "metadata": {},
     "output_type": "execute_result"
    }
   ],
   "source": [
    "constants = list(sp.symbols('c_1, c_2'))\n",
    "solutions = [sp.E**0, sp.E * sp.uppergamma(n-1, 1) / sp.gamma(n-1)] # I used sp.E**0 instead of 1 so that 1 is treated as an expression, and not as an integer\n",
    "homogeous_solution = sum(c*sol for c, sol in zip(constants, solutions))\n",
    "homogeous_solution"
   ]
  },
  {
   "cell_type": "markdown",
   "id": "7cc15e47",
   "metadata": {},
   "source": [
    "To get the particular solution, we are going to use variation of parameters.\n",
    "\n",
    "First, let's compute the Wronskian."
   ]
  },
  {
   "cell_type": "code",
   "execution_count": 20,
   "id": "6fda2aa5",
   "metadata": {},
   "outputs": [
    {
     "data": {
      "text/latex": [
       "$\\displaystyle \\left[\\begin{matrix}1 & \\frac{e \\Gamma\\left(n - 1, 1\\right)}{\\Gamma\\left(n - 1\\right)}\\\\1 & \\frac{e \\Gamma\\left(n, 1\\right)}{\\Gamma\\left(n\\right)}\\end{matrix}\\right]$"
      ],
      "text/plain": [
       "Matrix([\n",
       "[1, E*uppergamma(n - 1, 1)/gamma(n - 1)],\n",
       "[1,         E*uppergamma(n, 1)/gamma(n)]])"
      ]
     },
     "execution_count": 20,
     "metadata": {},
     "output_type": "execute_result"
    }
   ],
   "source": [
    "w = sp.Matrix([\n",
    "    solutions,\n",
    "    [exp.subs(n, n + 1) for exp in solutions],\n",
    "])\n",
    "w"
   ]
  },
  {
   "cell_type": "code",
   "execution_count": 21,
   "id": "2cc9d82e",
   "metadata": {},
   "outputs": [
    {
     "data": {
      "text/latex": [
       "$\\displaystyle - \\frac{e \\Gamma\\left(n - 1, 1\\right)}{\\Gamma\\left(n - 1\\right)} + \\frac{e \\Gamma\\left(n, 1\\right)}{\\Gamma\\left(n\\right)}$"
      ],
      "text/plain": [
       "-E*uppergamma(n - 1, 1)/gamma(n - 1) + E*uppergamma(n, 1)/gamma(n)"
      ]
     },
     "execution_count": 21,
     "metadata": {},
     "output_type": "execute_result"
    }
   ],
   "source": [
    "w = w.det()\n",
    "w"
   ]
  },
  {
   "cell_type": "markdown",
   "id": "dd91ab42",
   "metadata": {},
   "source": [
    "Now, we can get the particular solution"
   ]
  },
  {
   "cell_type": "code",
   "execution_count": 22,
   "id": "33a9b14a",
   "metadata": {},
   "outputs": [
    {
     "data": {
      "text/latex": [
       "$\\displaystyle - \\sum_{j=1}^{n - 1} \\frac{e \\Gamma\\left(j, 1\\right)}{j \\left(j + 1\\right) \\left(\\frac{e \\Gamma\\left(j + 1, 1\\right)}{\\Gamma\\left(j + 1\\right)} - \\frac{e \\Gamma\\left(j, 1\\right)}{\\Gamma\\left(j\\right)}\\right) \\Gamma\\left(j\\right)} + \\frac{e \\Gamma\\left(n - 1, 1\\right) \\sum_{j=1}^{n - 1} \\frac{1}{j \\left(j + 1\\right) \\left(\\frac{e \\Gamma\\left(j + 1, 1\\right)}{\\Gamma\\left(j + 1\\right)} - \\frac{e \\Gamma\\left(j, 1\\right)}{\\Gamma\\left(j\\right)}\\right)}}{\\Gamma\\left(n - 1\\right)}$"
      ],
      "text/plain": [
       "-Sum(E*uppergamma(j, 1)/(j*(j + 1)*(E*uppergamma(j + 1, 1)/gamma(j + 1) - E*uppergamma(j, 1)/gamma(j))*gamma(j)), (j, 1, n - 1)) + E*uppergamma(n - 1, 1)*Sum(1/(j*(j + 1)*(E*uppergamma(j + 1, 1)/gamma(j + 1) - E*uppergamma(j, 1)/gamma(j))), (j, 1, n - 1))/gamma(n - 1)"
      ]
     },
     "execution_count": 22,
     "metadata": {},
     "output_type": "execute_result"
    }
   ],
   "source": [
    "f = 1 / ((n + 1) * n)\n",
    "j = sp.Symbol('j')\n",
    "particular_solution = solutions[1] * sp.Sum(solutions[0].subs(n, j + 1) * f.subs(n, j) / w.subs(n, j + 1), (j, 1, n - 1)) - \\\n",
    "                      solutions[0] * sp.Sum(solutions[1].subs(n, j + 1) * f.subs(n, j) / w.subs(n, j + 1), (j, 1, n - 1))\n",
    "particular_solution"
   ]
  },
  {
   "cell_type": "markdown",
   "id": "0555f500",
   "metadata": {},
   "source": [
    "Therefore, the general solution is:"
   ]
  },
  {
   "cell_type": "code",
   "execution_count": 23,
   "id": "768cccf3",
   "metadata": {},
   "outputs": [
    {
     "data": {
      "text/latex": [
       "$\\displaystyle c_{1} + \\frac{e c_{2} \\Gamma\\left(n - 1, 1\\right)}{\\Gamma\\left(n - 1\\right)} - \\sum_{j=1}^{n - 1} \\frac{e \\Gamma\\left(j, 1\\right)}{j \\left(j + 1\\right) \\left(\\frac{e \\Gamma\\left(j + 1, 1\\right)}{\\Gamma\\left(j + 1\\right)} - \\frac{e \\Gamma\\left(j, 1\\right)}{\\Gamma\\left(j\\right)}\\right) \\Gamma\\left(j\\right)} + \\frac{e \\Gamma\\left(n - 1, 1\\right) \\sum_{j=1}^{n - 1} \\frac{1}{j \\left(j + 1\\right) \\left(\\frac{e \\Gamma\\left(j + 1, 1\\right)}{\\Gamma\\left(j + 1\\right)} - \\frac{e \\Gamma\\left(j, 1\\right)}{\\Gamma\\left(j\\right)}\\right)}}{\\Gamma\\left(n - 1\\right)}$"
      ],
      "text/plain": [
       "c_1 + E*c_2*uppergamma(n - 1, 1)/gamma(n - 1) - Sum(E*uppergamma(j, 1)/(j*(j + 1)*(E*uppergamma(j + 1, 1)/gamma(j + 1) - E*uppergamma(j, 1)/gamma(j))*gamma(j)), (j, 1, n - 1)) + E*uppergamma(n - 1, 1)*Sum(1/(j*(j + 1)*(E*uppergamma(j + 1, 1)/gamma(j + 1) - E*uppergamma(j, 1)/gamma(j))), (j, 1, n - 1))/gamma(n - 1)"
      ]
     },
     "execution_count": 23,
     "metadata": {},
     "output_type": "execute_result"
    }
   ],
   "source": [
    "general_solution = homogeous_solution + particular_solution\n",
    "general_solution"
   ]
  },
  {
   "cell_type": "markdown",
   "id": "c8a794bc",
   "metadata": {},
   "source": [
    "# Problem 3\n",
    "\n",
    "## Part (a)"
   ]
  },
  {
   "cell_type": "code",
   "execution_count": 24,
   "id": "23c50db0",
   "metadata": {},
   "outputs": [
    {
     "data": {
      "text/latex": [
       "$\\displaystyle \\frac{d}{d x} y{\\left(x \\right)} = \\frac{e^{x - y{\\left(x \\right)}}}{\\left(e^{x} + 1\\right)^{2}}$"
      ],
      "text/plain": [
       "Eq(Derivative(y(x), x), exp(x - y(x))/(exp(x) + 1)**2)"
      ]
     },
     "execution_count": 24,
     "metadata": {},
     "output_type": "execute_result"
    }
   ],
   "source": [
    "y = sp.Function('y')\n",
    "x = sp.Symbol('x', real=True)\n",
    "diffeq = sp.Eq(y(x).diff(x), sp.E**(x - y(x)) / (1 + sp.E**x)**2)\n",
    "diffeq"
   ]
  },
  {
   "cell_type": "code",
   "execution_count": 25,
   "id": "cf3843b6",
   "metadata": {},
   "outputs": [
    {
     "data": {
      "text/latex": [
       "$\\displaystyle dy e^{y} = \\frac{dx e^{x}}{\\left(e^{x} + 1\\right)^{2}}$"
      ],
      "text/plain": [
       "Eq(dy*exp(y), dx*exp(x)/(exp(x) + 1)**2)"
      ]
     },
     "execution_count": 25,
     "metadata": {},
     "output_type": "execute_result"
    }
   ],
   "source": [
    "y = sp.Symbol('y', real=True)\n",
    "dy, dx, c = sp.symbols('dy dx c')\n",
    "sp.Eq(sp.E**y * dy, sp.E**x / (sp.E**x + 1)**2 * dx)"
   ]
  },
  {
   "cell_type": "markdown",
   "id": "82a24b77",
   "metadata": {},
   "source": [
    "It is a seperable equation so we can integrate both sides."
   ]
  },
  {
   "cell_type": "code",
   "execution_count": 26,
   "id": "8d41b87a",
   "metadata": {},
   "outputs": [
    {
     "data": {
      "text/latex": [
       "$\\displaystyle e^{y} = c - \\frac{1}{e^{x} + 1}$"
      ],
      "text/plain": [
       "Eq(exp(y), c - 1/(exp(x) + 1))"
      ]
     },
     "execution_count": 26,
     "metadata": {},
     "output_type": "execute_result"
    }
   ],
   "source": [
    "integral1 = sp.integrate(sp.E**y, y)\n",
    "integral2 = sp.integrate(sp.E**x / (sp.E**x + 1)**2, x)\n",
    "sp.Eq(integral1, integral2 + c)"
   ]
  },
  {
   "cell_type": "markdown",
   "id": "babdb29c",
   "metadata": {},
   "source": [
    "Take ln of both sides (sympy uses `log` notation instead of `ln`)"
   ]
  },
  {
   "cell_type": "code",
   "execution_count": 27,
   "id": "0e468b41",
   "metadata": {},
   "outputs": [
    {
     "data": {
      "text/latex": [
       "$\\displaystyle y = \\log{\\left(c - \\frac{1}{e^{x} + 1} \\right)}$"
      ],
      "text/plain": [
       "Eq(y, log(c - 1/(exp(x) + 1)))"
      ]
     },
     "execution_count": 27,
     "metadata": {},
     "output_type": "execute_result"
    }
   ],
   "source": [
    "eq = sp.Eq(sp.ln(integral1), sp.ln(integral2 + c))\n",
    "eq"
   ]
  },
  {
   "cell_type": "code",
   "execution_count": 28,
   "id": "0137b849",
   "metadata": {},
   "outputs": [
    {
     "data": {
      "text/latex": [
       "$\\displaystyle 1 = \\log{\\left(c - \\frac{1}{2} \\right)}$"
      ],
      "text/plain": [
       "Eq(1, log(c - 1/2))"
      ]
     },
     "execution_count": 28,
     "metadata": {},
     "output_type": "execute_result"
    }
   ],
   "source": [
    "init_eq = eq.subs(y, 1).subs(x, 0)\n",
    "init_eq"
   ]
  },
  {
   "cell_type": "code",
   "execution_count": 29,
   "id": "f6b2781c",
   "metadata": {},
   "outputs": [
    {
     "data": {
      "text/latex": [
       "$\\displaystyle c = \\frac{1}{2} + e$"
      ],
      "text/plain": [
       "Eq(c, 1/2 + E)"
      ]
     },
     "execution_count": 29,
     "metadata": {},
     "output_type": "execute_result"
    }
   ],
   "source": [
    "solutions = sp.solve(init_eq, c)\n",
    "sp.Eq(c, solutions[0])"
   ]
  },
  {
   "cell_type": "markdown",
   "id": "7a02e984",
   "metadata": {},
   "source": [
    "The exact solution is:"
   ]
  },
  {
   "cell_type": "code",
   "execution_count": 30,
   "id": "3e6897ad",
   "metadata": {},
   "outputs": [
    {
     "data": {
      "text/latex": [
       "$\\displaystyle y = \\log{\\left(\\frac{1}{2} + e - \\frac{1}{e^{x} + 1} \\right)}$"
      ],
      "text/plain": [
       "Eq(y, log(1/2 + E - 1/(exp(x) + 1)))"
      ]
     },
     "execution_count": 30,
     "metadata": {},
     "output_type": "execute_result"
    }
   ],
   "source": [
    "eq = eq.subs(c, solutions[0])\n",
    "eq"
   ]
  },
  {
   "cell_type": "markdown",
   "id": "3743e969",
   "metadata": {},
   "source": [
    "## Part (b)"
   ]
  },
  {
   "cell_type": "code",
   "execution_count": 31,
   "id": "2c90a32a",
   "metadata": {},
   "outputs": [
    {
     "data": {
      "text/latex": [
       "$\\displaystyle \\left[\\begin{matrix}1\\\\\\frac{e^{x - y{\\left(x \\right)}}}{\\left(e^{x} + 1\\right)^{2}}\\\\\\frac{\\left(1 - \\frac{d}{d x} y{\\left(x \\right)}\\right) e^{x - y{\\left(x \\right)}}}{\\left(e^{x} + 1\\right)^{2}} - \\frac{2 e^{x} e^{x - y{\\left(x \\right)}}}{\\left(e^{x} + 1\\right)^{3}}\\\\\\frac{\\left(1 - \\frac{d}{d x} y{\\left(x \\right)}\\right)^{2} e^{x - y{\\left(x \\right)}}}{\\left(e^{x} + 1\\right)^{2}} - \\frac{4 \\left(1 - \\frac{d}{d x} y{\\left(x \\right)}\\right) e^{x} e^{x - y{\\left(x \\right)}}}{\\left(e^{x} + 1\\right)^{3}} - \\frac{e^{x - y{\\left(x \\right)}} \\frac{d^{2}}{d x^{2}} y{\\left(x \\right)}}{\\left(e^{x} + 1\\right)^{2}} - \\frac{2 e^{x} e^{x - y{\\left(x \\right)}}}{\\left(e^{x} + 1\\right)^{3}} + \\frac{6 e^{2 x} e^{x - y{\\left(x \\right)}}}{\\left(e^{x} + 1\\right)^{4}}\\\\\\frac{\\left(1 - \\frac{d}{d x} y{\\left(x \\right)}\\right)^{3} e^{x - y{\\left(x \\right)}}}{\\left(e^{x} + 1\\right)^{2}} - \\frac{6 \\left(1 - \\frac{d}{d x} y{\\left(x \\right)}\\right)^{2} e^{x} e^{x - y{\\left(x \\right)}}}{\\left(e^{x} + 1\\right)^{3}} - \\frac{3 \\left(1 - \\frac{d}{d x} y{\\left(x \\right)}\\right) e^{x - y{\\left(x \\right)}} \\frac{d^{2}}{d x^{2}} y{\\left(x \\right)}}{\\left(e^{x} + 1\\right)^{2}} - \\frac{6 \\left(1 - \\frac{d}{d x} y{\\left(x \\right)}\\right) e^{x} e^{x - y{\\left(x \\right)}}}{\\left(e^{x} + 1\\right)^{3}} + \\frac{18 \\left(1 - \\frac{d}{d x} y{\\left(x \\right)}\\right) e^{2 x} e^{x - y{\\left(x \\right)}}}{\\left(e^{x} + 1\\right)^{4}} - \\frac{e^{x - y{\\left(x \\right)}} \\frac{d^{3}}{d x^{3}} y{\\left(x \\right)}}{\\left(e^{x} + 1\\right)^{2}} + \\frac{6 e^{x} e^{x - y{\\left(x \\right)}} \\frac{d^{2}}{d x^{2}} y{\\left(x \\right)}}{\\left(e^{x} + 1\\right)^{3}} - \\frac{2 e^{x} e^{x - y{\\left(x \\right)}}}{\\left(e^{x} + 1\\right)^{3}} + \\frac{18 e^{2 x} e^{x - y{\\left(x \\right)}}}{\\left(e^{x} + 1\\right)^{4}} - \\frac{24 e^{3 x} e^{x - y{\\left(x \\right)}}}{\\left(e^{x} + 1\\right)^{5}}\\end{matrix}\\right]$"
      ],
      "text/plain": [
       "Matrix([\n",
       "[                                                                                                                                                                                                                                                                                                                                                                                                                                                                                                                                                                                                                         1],\n",
       "[                                                                                                                                                                                                                                                                                                                                                                                                                                                                                                                                                                                             exp(x - y(x))/(exp(x) + 1)**2],\n",
       "[                                                                                                                                                                                                                                                                                                                                                                                                                                                                                                                          (1 - Derivative(y(x), x))*exp(x - y(x))/(exp(x) + 1)**2 - 2*exp(x)*exp(x - y(x))/(exp(x) + 1)**3],\n",
       "[                                                                                                                                                                                                                                                                                                                                                (1 - Derivative(y(x), x))**2*exp(x - y(x))/(exp(x) + 1)**2 - 4*(1 - Derivative(y(x), x))*exp(x)*exp(x - y(x))/(exp(x) + 1)**3 - exp(x - y(x))*Derivative(y(x), (x, 2))/(exp(x) + 1)**2 - 2*exp(x)*exp(x - y(x))/(exp(x) + 1)**3 + 6*exp(2*x)*exp(x - y(x))/(exp(x) + 1)**4],\n",
       "[(1 - Derivative(y(x), x))**3*exp(x - y(x))/(exp(x) + 1)**2 - 6*(1 - Derivative(y(x), x))**2*exp(x)*exp(x - y(x))/(exp(x) + 1)**3 - 3*(1 - Derivative(y(x), x))*exp(x - y(x))*Derivative(y(x), (x, 2))/(exp(x) + 1)**2 - 6*(1 - Derivative(y(x), x))*exp(x)*exp(x - y(x))/(exp(x) + 1)**3 + 18*(1 - Derivative(y(x), x))*exp(2*x)*exp(x - y(x))/(exp(x) + 1)**4 - exp(x - y(x))*Derivative(y(x), (x, 3))/(exp(x) + 1)**2 + 6*exp(x)*exp(x - y(x))*Derivative(y(x), (x, 2))/(exp(x) + 1)**3 - 2*exp(x)*exp(x - y(x))/(exp(x) + 1)**3 + 18*exp(2*x)*exp(x - y(x))/(exp(x) + 1)**4 - 24*exp(3*x)*exp(x - y(x))/(exp(x) + 1)**5]])"
      ]
     },
     "execution_count": 31,
     "metadata": {},
     "output_type": "execute_result"
    }
   ],
   "source": [
    "y = sp.Function('y')\n",
    "taylor_coef = [1, sp.E**(x - y(x)) / (1 + sp.E**x)**2]\n",
    "while len(taylor_coef) < 5:\n",
    "    taylor_coef.append(sp.diff(taylor_coef[-1], x))\n",
    "\n",
    "sp.Matrix(taylor_coef)"
   ]
  },
  {
   "cell_type": "code",
   "execution_count": 32,
   "id": "42ae5387",
   "metadata": {},
   "outputs": [
    {
     "data": {
      "text/latex": [
       "$\\displaystyle \\left[\\begin{matrix}1\\\\\\frac{x}{4 e} + 1\\\\- \\frac{x^{2}}{32 e^{2}} + \\frac{x}{4 e} + 1\\\\\\frac{x^{3} \\left(1 - 4 e^{2}\\right)}{192 e^{3}} - \\frac{x^{2}}{32 e^{2}} + \\frac{x}{4 e} + 1\\\\\\frac{x^{4} \\left(-3 + 16 e^{2}\\right)}{3072 e^{4}} + \\frac{x^{3} \\left(1 - 4 e^{2}\\right)}{192 e^{3}} - \\frac{x^{2}}{32 e^{2}} + \\frac{x}{4 e} + 1\\end{matrix}\\right]$"
      ],
      "text/plain": [
       "Matrix([\n",
       "[                                                                                                       1],\n",
       "[                                                                                         x*exp(-1)/4 + 1],\n",
       "[                                                                      -x**2*exp(-2)/32 + x*exp(-1)/4 + 1],\n",
       "[                                     x**3*(1 - 4*exp(2))*exp(-3)/192 - x**2*exp(-2)/32 + x*exp(-1)/4 + 1],\n",
       "[x**4*(-3 + 16*exp(2))*exp(-4)/3072 + x**3*(1 - 4*exp(2))*exp(-3)/192 - x**2*exp(-2)/32 + x*exp(-1)/4 + 1]])"
      ]
     },
     "execution_count": 32,
     "metadata": {},
     "output_type": "execute_result"
    }
   ],
   "source": [
    "subs = [(x, 0), (y(x), 1)]\n",
    "for i in range(1, len(taylor_coef)):\n",
    "    taylor_coef[i] = sp.simplify(taylor_coef[i].subs(reversed(subs)))\n",
    "    subs.append((sp.diff(subs[-1][0], x), taylor_coef[i]))\n",
    "    \n",
    "taylor_polynomials = list(it.accumulate([coef/math.factorial(i) * x**i if i else coef for i, coef in enumerate(taylor_coef)]))\n",
    "sp.Matrix(taylor_polynomials)"
   ]
  },
  {
   "cell_type": "markdown",
   "id": "beac2080",
   "metadata": {},
   "source": [
    "## Part (c)"
   ]
  },
  {
   "cell_type": "code",
   "execution_count": null,
   "id": "57be732b",
   "metadata": {},
   "outputs": [],
   "source": []
  }
 ],
 "metadata": {
  "kernelspec": {
   "display_name": "Python 3",
   "language": "python",
   "name": "python3"
  },
  "language_info": {
   "codemirror_mode": {
    "name": "ipython",
    "version": 3
   },
   "file_extension": ".py",
   "mimetype": "text/x-python",
   "name": "python",
   "nbconvert_exporter": "python",
   "pygments_lexer": "ipython3",
   "version": "3.9.1"
  }
 },
 "nbformat": 4,
 "nbformat_minor": 5
}
